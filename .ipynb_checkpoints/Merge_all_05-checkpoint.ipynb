{
 "cells": [
  {
   "cell_type": "code",
   "execution_count": 1,
   "id": "1272e121-2509-489a-881b-680a06026d97",
   "metadata": {},
   "outputs": [
    {
     "name": "stderr",
     "output_type": "stream",
     "text": [
      "tar: Error opening archive: Failed to open 'Data/matrix.mtx.gz'\n"
     ]
    }
   ],
   "source": [
    "! tar -xzf \"Data/matrix.mtx.gz\" -C data"
   ]
  },
  {
   "cell_type": "code",
   "execution_count": 2,
   "id": "bb582602-a55b-47ca-af34-8ae5c9590017",
   "metadata": {},
   "outputs": [],
   "source": [
    "import numpy as np\n",
    "import pandas as pd\n",
    "import scanpy as sc"
   ]
  },
  {
   "cell_type": "code",
   "execution_count": 3,
   "id": "0ee3987a-5564-4fb5-973f-ac6edbca1769",
   "metadata": {},
   "outputs": [
    {
     "name": "stderr",
     "output_type": "stream",
     "text": [
      "C:\\Users\\88695\\AppData\\Local\\Programs\\Python\\Python311\\Lib\\site-packages\\umap\\distances.py:1063: NumbaDeprecationWarning: \u001b[1mThe 'nopython' keyword argument was not supplied to the 'numba.jit' decorator. The implicit default value for this argument is currently False, but it will be changed to True in Numba 0.59.0. See https://numba.readthedocs.io/en/stable/reference/deprecation.html#deprecation-of-object-mode-fall-back-behaviour-when-using-jit for details.\u001b[0m\n",
      "  @numba.jit()\n",
      "C:\\Users\\88695\\AppData\\Local\\Programs\\Python\\Python311\\Lib\\site-packages\\umap\\distances.py:1071: NumbaDeprecationWarning: \u001b[1mThe 'nopython' keyword argument was not supplied to the 'numba.jit' decorator. The implicit default value for this argument is currently False, but it will be changed to True in Numba 0.59.0. See https://numba.readthedocs.io/en/stable/reference/deprecation.html#deprecation-of-object-mode-fall-back-behaviour-when-using-jit for details.\u001b[0m\n",
      "  @numba.jit()\n",
      "C:\\Users\\88695\\AppData\\Local\\Programs\\Python\\Python311\\Lib\\site-packages\\umap\\distances.py:1086: NumbaDeprecationWarning: \u001b[1mThe 'nopython' keyword argument was not supplied to the 'numba.jit' decorator. The implicit default value for this argument is currently False, but it will be changed to True in Numba 0.59.0. See https://numba.readthedocs.io/en/stable/reference/deprecation.html#deprecation-of-object-mode-fall-back-behaviour-when-using-jit for details.\u001b[0m\n",
      "  @numba.jit()\n",
      "C:\\Users\\88695\\AppData\\Local\\Programs\\Python\\Python311\\Lib\\site-packages\\tqdm\\auto.py:21: TqdmWarning: IProgress not found. Please update jupyter and ipywidgets. See https://ipywidgets.readthedocs.io/en/stable/user_install.html\n",
      "  from .autonotebook import tqdm as notebook_tqdm\n"
     ]
    },
    {
     "name": "stdout",
     "output_type": "stream",
     "text": [
      "scanpy==1.9.3 anndata==0.9.2 umap==0.5.3 numpy==1.24.4 scipy==1.11.2 pandas==2.0.3 scikit-learn==1.3.0 statsmodels==0.14.0 python-igraph==0.10.6 pynndescent==0.5.10\n"
     ]
    },
    {
     "name": "stderr",
     "output_type": "stream",
     "text": [
      "C:\\Users\\88695\\AppData\\Local\\Programs\\Python\\Python311\\Lib\\site-packages\\umap\\umap_.py:660: NumbaDeprecationWarning: \u001b[1mThe 'nopython' keyword argument was not supplied to the 'numba.jit' decorator. The implicit default value for this argument is currently False, but it will be changed to True in Numba 0.59.0. See https://numba.readthedocs.io/en/stable/reference/deprecation.html#deprecation-of-object-mode-fall-back-behaviour-when-using-jit for details.\u001b[0m\n",
      "  @numba.jit()\n"
     ]
    }
   ],
   "source": [
    "sc.settings.verbosity = 3             # verbosity: errors (0), warnings (1), info (2), hints (3)\n",
    "sc.logging.print_header()\n",
    "sc.settings.set_figure_params(dpi=80, facecolor='white')"
   ]
  },
  {
   "cell_type": "code",
   "execution_count": 4,
   "id": "a111aa13-2275-4d87-a896-0286cd19b451",
   "metadata": {},
   "outputs": [],
   "source": [
    "results_file = 'write/pbmc3k.h5ad'  # the file that will store the analysis results"
   ]
  },
  {
   "cell_type": "code",
   "execution_count": null,
   "id": "18645d21-a3fb-430a-a51c-340be96d4cd0",
   "metadata": {},
   "outputs": [],
   "source": [
    "adata2 = sc.read_10x_mtx(\n",
    "    '../Data/05 - MEN108.2/',  # the directory with the `.mtx` file\n",
    "    var_names='gene_symbols',                # use gene symbols for the variable names (variables-aAxis index)\n",
    "    cache=True)                              # write a cache file for faster subsequent reading"
   ]
  },
  {
   "cell_type": "code",
   "execution_count": null,
   "id": "954256b5-2782-4d3e-82f6-9c34916b3059",
   "metadata": {},
   "outputs": [],
   "source": [
    "adata3 = sc.read_10x_mtx(\n",
    "    '../Data/05 - MEN09/',  # the directory with the `.mtx` file\n",
    "    var_names='gene_symbols',                # use gene symbols for the variable names (variables-aAxis index)\n",
    "    cache=True)                              # write a cache file for faster subsequent reading"
   ]
  },
  {
   "cell_type": "code",
   "execution_count": null,
   "id": "3ebc31cf-dbdb-49ae-8239-e893086d4993",
   "metadata": {},
   "outputs": [],
   "source": [
    "adata4 = sc.read_10x_mtx(\n",
    "    '../Data/05 - MEN09_Tumor/',  # the directory with the `.mtx` file\n",
    "    var_names='gene_symbols',                # use gene symbols for the variable names (variables-aAxis index)\n",
    "    cache=True)                              # write a cache file for faster subsequent reading"
   ]
  },
  {
   "cell_type": "code",
   "execution_count": null,
   "id": "a512d70d-8452-427a-8d7b-fb39fb3c5e44",
   "metadata": {},
   "outputs": [],
   "source": [
    "adata5 = sc.read_10x_mtx(\n",
    "    '../Data/05 - Men104.1/',  # the directory with the `.mtx` file\n",
    "    var_names='gene_symbols',                # use gene symbols for the variable names (variables-axis index)\n",
    "    cache=True)                              # write a cache file for faster subsequent reading"
   ]
  },
  {
   "cell_type": "code",
   "execution_count": null,
   "id": "dd8eee53-abbe-4433-aa6e-84438eefcf74",
   "metadata": {},
   "outputs": [],
   "source": [
    "adata6 = sc.read_10x_mtx(\n",
    "    '../Data/05 - MEN104.2/',  # the directory with the `.mtx` file\n",
    "    var_names='gene_symbols',                # use gene symbols for the variable names (variables-aAxis index)\n",
    "    cache=True)                              # write a cache file for faster subsequent reading"
   ]
  },
  {
   "cell_type": "code",
   "execution_count": null,
   "id": "920a6db9-5202-4992-9ca9-90367122b72d",
   "metadata": {},
   "outputs": [],
   "source": [
    "adata7 = sc.read_10x_mtx(\n",
    "    '../Data/05 - MEN108.1/',  # the directory with the `.mtx` file\n",
    "    var_names='gene_symbols',                # use gene symbols for the variable names (variables-aAxis index)\n",
    "    cache=True)                              # write a cache file for faster subsequent reading"
   ]
  },
  {
   "cell_type": "code",
   "execution_count": null,
   "id": "c84c5c2c-fb81-4301-8fe5-3255f264bbe6",
   "metadata": {},
   "outputs": [],
   "source": [
    "adata = sc.concat([adata2, adata3, adata4, adata5, adata6, adata7], join= 'outer')"
   ]
  },
  {
   "cell_type": "code",
   "execution_count": null,
   "id": "c346d2e2-7069-4166-a81e-03fd4f375356",
   "metadata": {
    "scrolled": true
   },
   "outputs": [],
   "source": [
    "adata.var_names_make_unique()  # this is unnecessary if using `var_names='gene_ids'` in `sc.read_10x_mtx`"
   ]
  },
  {
   "cell_type": "code",
   "execution_count": null,
   "id": "30ad57ff-4c2d-4f39-ae57-9e6402175ff4",
   "metadata": {
    "scrolled": true
   },
   "outputs": [],
   "source": [
    "# Test sample names\n",
    "adata"
   ]
  },
  {
   "cell_type": "code",
   "execution_count": null,
   "id": "64437ec3-e891-4901-8de5-005d4a880625",
   "metadata": {},
   "outputs": [],
   "source": [
    "adata"
   ]
  },
  {
   "cell_type": "code",
   "execution_count": null,
   "id": "8520be7a-42fe-4781-82dd-db7c1201d03c",
   "metadata": {
    "scrolled": true
   },
   "outputs": [],
   "source": [
    "sc.pl.highest_expr_genes(adata, n_top=20, )"
   ]
  },
  {
   "cell_type": "code",
   "execution_count": null,
   "id": "f8ce4937-322c-4437-9949-a17a491e6a66",
   "metadata": {},
   "outputs": [],
   "source": [
    "sc.pp.filter_cells(adata, min_genes=200)\n",
    "sc.pp.filter_genes(adata, min_cells=3)"
   ]
  },
  {
   "cell_type": "code",
   "execution_count": null,
   "id": "0af4ce9f-483f-4b9b-8b10-2857068ce644",
   "metadata": {},
   "outputs": [],
   "source": [
    "adata.var['mt'] = adata.var_names.str.startswith('MT-')  # annotate the group of mitochondrial genes as 'mt'\n",
    "sc.pp.calculate_qc_metrics(adata, qc_vars=['mt'], percent_top=None, log1p=False, inplace=True)"
   ]
  },
  {
   "cell_type": "code",
   "execution_count": null,
   "id": "838030fb-8ea7-4535-845a-18dac8562938",
   "metadata": {
    "scrolled": true
   },
   "outputs": [],
   "source": [
    "sc.pl.violin(adata, ['n_genes_by_counts', 'total_counts', 'pct_counts_mt'],\n",
    "             jitter=0.4, multi_panel=True)"
   ]
  },
  {
   "cell_type": "code",
   "execution_count": null,
   "id": "094b7266-5718-4600-8a64-72be0c8823ca",
   "metadata": {
    "scrolled": true
   },
   "outputs": [],
   "source": [
    "sc.pl.scatter(adata, x='total_counts', y='pct_counts_mt') # quality control \n",
    "sc.pl.scatter(adata, x='total_counts', y='n_genes_by_counts')"
   ]
  },
  {
   "cell_type": "code",
   "execution_count": null,
   "id": "8b0d01f0-d11c-46b2-b9ba-dc3f8cad8071",
   "metadata": {},
   "outputs": [],
   "source": [
    "adata = adata[adata.obs.n_genes_by_counts < 2500, :]\n",
    "adata = adata[adata.obs.pct_counts_mt < 5, :]"
   ]
  },
  {
   "cell_type": "code",
   "execution_count": null,
   "id": "f04e5c35-cd8c-46d8-9e4c-e2dba4faa653",
   "metadata": {},
   "outputs": [],
   "source": [
    "sc.pp.normalize_total(adata, target_sum=1e4) "
   ]
  },
  {
   "cell_type": "code",
   "execution_count": null,
   "id": "90614adb-3eb8-4056-b0aa-f286c861d110",
   "metadata": {},
   "outputs": [],
   "source": [
    "sc.pp.log1p(adata) # log make numbers readible"
   ]
  },
  {
   "cell_type": "code",
   "execution_count": null,
   "id": "a98d45ce-a287-4c66-8b90-0af634391ba7",
   "metadata": {},
   "outputs": [],
   "source": [
    "sc.pp.highly_variable_genes(adata, min_mean=0.0125, max_mean=3, min_disp=0.5)"
   ]
  },
  {
   "cell_type": "code",
   "execution_count": null,
   "id": "2913db64-18d5-4c1d-8165-33e90087df81",
   "metadata": {},
   "outputs": [],
   "source": [
    "sc.pl.highly_variable_genes(adata)"
   ]
  },
  {
   "cell_type": "code",
   "execution_count": null,
   "id": "8cba3edf-21a8-45b4-b359-42c1f6df576e",
   "metadata": {},
   "outputs": [],
   "source": [
    "adata.raw = adata"
   ]
  },
  {
   "cell_type": "code",
   "execution_count": null,
   "id": "e8eda6f3-0e9e-4321-a7e7-e108b5f3a297",
   "metadata": {},
   "outputs": [],
   "source": [
    "adata = adata[:, adata.var.highly_variable] # : all rows"
   ]
  },
  {
   "cell_type": "code",
   "execution_count": null,
   "id": "7566d7d0-b64c-4f19-9e3d-84a355268c59",
   "metadata": {},
   "outputs": [],
   "source": [
    "sc.pp.regress_out(adata, ['total_counts', 'pct_counts_mt'])"
   ]
  },
  {
   "cell_type": "code",
   "execution_count": null,
   "id": "074ebafa-c73a-420a-97f6-24498a7bf21a",
   "metadata": {},
   "outputs": [],
   "source": [
    "sc.pp.scale(adata, max_value=10)"
   ]
  },
  {
   "cell_type": "code",
   "execution_count": null,
   "id": "671ca18b-c21c-4fa7-85e8-46b764428b34",
   "metadata": {},
   "outputs": [],
   "source": [
    "sc.tl.pca(adata, svd_solver='arpack') # pca dimension reduction"
   ]
  },
  {
   "cell_type": "code",
   "execution_count": null,
   "id": "a2cd8c9f-e4ee-4bc9-affd-c1ad7441768b",
   "metadata": {},
   "outputs": [],
   "source": [
    "sc.pl.pca(adata, color='CST3')"
   ]
  },
  {
   "cell_type": "code",
   "execution_count": null,
   "id": "8f79e71c-0d04-4f03-a6b7-2e30f974dca7",
   "metadata": {},
   "outputs": [],
   "source": [
    "sc.pl.pca_variance_ratio(adata, log=True)"
   ]
  },
  {
   "cell_type": "code",
   "execution_count": null,
   "id": "caa72544-edd6-4d3d-b90e-33253964b7a7",
   "metadata": {},
   "outputs": [],
   "source": [
    "adata.write(results_file)"
   ]
  },
  {
   "cell_type": "code",
   "execution_count": null,
   "id": "d5ea4f12-8179-49bc-afe2-cbaf8357f019",
   "metadata": {},
   "outputs": [],
   "source": [
    "adata"
   ]
  },
  {
   "cell_type": "code",
   "execution_count": null,
   "id": "e3714bd6-deb5-4c08-8bb3-a3123a9c1256",
   "metadata": {},
   "outputs": [],
   "source": [
    "sc.pp.neighbors(adata, n_neighbors=10, n_pcs=40)"
   ]
  },
  {
   "cell_type": "code",
   "execution_count": null,
   "id": "ecf7a887-7cdd-4474-9504-5ecd40dcd803",
   "metadata": {},
   "outputs": [],
   "source": [
    "sc.tl.umap(adata)"
   ]
  },
  {
   "cell_type": "code",
   "execution_count": null,
   "id": "e97d2ffb-5985-4d3a-bec6-d1a57c4adb66",
   "metadata": {},
   "outputs": [],
   "source": [
    "sc.pl.umap(adata, color=['EGFR', 'CCL26', 'IL6', 'S100B', 'MCM2', 'CCL5'] )"
   ]
  },
  {
   "cell_type": "code",
   "execution_count": null,
   "id": "9e220766-7060-48d4-aa5b-3dec1abb36d3",
   "metadata": {},
   "outputs": [],
   "source": [
    "sc.pl.umap(adata, color=['CCL26', 'PAX6'])"
   ]
  },
  {
   "cell_type": "code",
   "execution_count": null,
   "id": "eabb4c96-348e-44f2-8f5d-50679875749b",
   "metadata": {},
   "outputs": [],
   "source": [
    "sc.tl.leiden(adata, resolution = 0.2)"
   ]
  },
  {
   "cell_type": "code",
   "execution_count": null,
   "id": "04dd6ee6-3724-44bc-a48f-4e3b2ee07f93",
   "metadata": {},
   "outputs": [],
   "source": [
    "sc.pl.umap(adata, color=['leiden', 'CCL2', 'CXCR4', 'EGFR', 'CCL3', 'CCL4', 'CCL5', 'CCL14', 'CCL20', 'CCL26', 'CXCL2',\n",
    "    'CXCL3', 'CXCL5',  'CXCL8',  'CXCL12'])"
   ]
  },
  {
   "cell_type": "code",
   "execution_count": null,
   "id": "b1ddedb8-f86c-4cbb-a56f-c5683d5f8a9c",
   "metadata": {},
   "outputs": [],
   "source": [
    "adata.write(results_file)"
   ]
  },
  {
   "cell_type": "code",
   "execution_count": null,
   "id": "987c33a1-06e0-4436-b65a-3893a2290c3c",
   "metadata": {},
   "outputs": [],
   "source": [
    "sc.tl.rank_genes_groups(adata, 'leiden', method='t-test')\n",
    "sc.pl.rank_genes_groups(adata, n_genes=25, sharey=False)"
   ]
  },
  {
   "cell_type": "code",
   "execution_count": null,
   "id": "f4bd2b7d-6db7-40b3-84e9-d2d24d2637c1",
   "metadata": {},
   "outputs": [],
   "source": [
    "sc.settings.verbosity = 2  # reduce the verbosity"
   ]
  },
  {
   "cell_type": "code",
   "execution_count": null,
   "id": "e9d3a644-6d38-486d-a906-a9c4366032be",
   "metadata": {},
   "outputs": [],
   "source": [
    "sc.tl.rank_genes_groups(adata, 'leiden', method='wilcoxon')\n",
    "sc.pl.rank_genes_groups(adata, n_genes=25, sharey=False)"
   ]
  },
  {
   "cell_type": "code",
   "execution_count": null,
   "id": "fef35216-0ab1-4dda-b1d8-6d84632a91d4",
   "metadata": {},
   "outputs": [],
   "source": [
    "adata.write(results_file)"
   ]
  },
  {
   "cell_type": "code",
   "execution_count": null,
   "id": "5736e746-f39d-4bca-97ae-cec091e46b92",
   "metadata": {},
   "outputs": [],
   "source": [
    "sc.tl.rank_genes_groups(adata, 'leiden', method='logreg')\n",
    "sc.pl.rank_genes_groups(adata, n_genes=25, sharey=False)"
   ]
  },
  {
   "cell_type": "code",
   "execution_count": null,
   "id": "2110cd2e-98f5-44c4-92d0-13086f09416e",
   "metadata": {},
   "outputs": [],
   "source": [
    "marker_genes = ['IL7R', 'CD79A', 'MS4A1', 'CD8A', 'CD8B', 'LYZ', 'CD14',\n",
    "                'LGALS3', 'S100A8', 'GNLY', 'NKG7', 'KLRB1',\n",
    "                'FCGR3A', 'MS4A7', 'FCER1A', 'CST3', 'PPBP']"
   ]
  },
  {
   "cell_type": "code",
   "execution_count": null,
   "id": "78b9e4fc-bafa-4bab-8795-5b60ac272c20",
   "metadata": {},
   "outputs": [],
   "source": [
    "adata = sc.read(results_file)"
   ]
  },
  {
   "cell_type": "code",
   "execution_count": null,
   "id": "b8839792-2781-4700-9070-f0f69cbd1c89",
   "metadata": {},
   "outputs": [],
   "source": [
    "pd.DataFrame(adata.uns['rank_genes_groups']['names']).head(5)"
   ]
  },
  {
   "cell_type": "code",
   "execution_count": null,
   "id": "cd842448-fc8e-427e-940e-abfb75339708",
   "metadata": {},
   "outputs": [],
   "source": [
    "result = adata.uns['rank_genes_groups']\n",
    "groups = result['names'].dtype.names\n",
    "pd.DataFrame(\n",
    "    {group + '_' + key[:1]: result[key][group]\n",
    "    for group in groups for key in ['names', 'pvals']}).head(5)"
   ]
  },
  {
   "cell_type": "code",
   "execution_count": null,
   "id": "e7aaf92c-6017-4458-9fdb-dbe8704e5076",
   "metadata": {},
   "outputs": [],
   "source": [
    "adata = sc.read(results_file)"
   ]
  },
  {
   "cell_type": "code",
   "execution_count": null,
   "id": "17dff641-9307-4511-9713-1c11717ec781",
   "metadata": {},
   "outputs": [],
   "source": [
    "sc.pl.rank_genes_groups_violin(adata, groups='0', n_genes=8)"
   ]
  },
  {
   "cell_type": "code",
   "execution_count": null,
   "id": "cd90f344-d730-4f6f-933d-320faf022130",
   "metadata": {},
   "outputs": [],
   "source": [
    "sc.pl.violin(adata, ['CST3', 'NKG7', 'PPBP'], groupby='leiden')"
   ]
  },
  {
   "cell_type": "code",
   "execution_count": null,
   "id": "675c2d62-731a-48e1-a6f4-4f06f2d6f1ba",
   "metadata": {},
   "outputs": [],
   "source": [
    "new_cluster_names = [\n",
    "    'CD4 T', 'CD14 Monocytes',\n",
    "    'B', 'CD8 T',\n",
    "    'NK', 'FCGR3A Monocytes',\n",
    "    'Dendritic', 'Megakaryocytes']\n",
    "adata.rename_categories('leiden', new_cluster_names)"
   ]
  },
  {
   "cell_type": "code",
   "execution_count": null,
   "id": "7e82e5bc-a3bd-4fe7-b7ca-f91ccffc036d",
   "metadata": {},
   "outputs": [],
   "source": [
    "sc.pl.umap(adata, color='leiden', legend_loc='on data', title='', frameon=False, save='.pdf')"
   ]
  },
  {
   "cell_type": "code",
   "execution_count": null,
   "id": "76ca92bd-bc53-4ec3-a983-68cb265a3113",
   "metadata": {},
   "outputs": [],
   "source": [
    "sc.pl.dotplot(adata, marker_genes, groupby='leiden');"
   ]
  },
  {
   "cell_type": "code",
   "execution_count": null,
   "id": "007d79b2-9aeb-4759-8329-0171d3709af1",
   "metadata": {},
   "outputs": [],
   "source": [
    "sc.pl.stacked_violin(adata, marker_genes, groupby='leiden', rotation=90);"
   ]
  },
  {
   "cell_type": "code",
   "execution_count": null,
   "id": "259901d7-04af-4fd9-a2a9-8af2fc565b0d",
   "metadata": {},
   "outputs": [],
   "source": [
    "adata"
   ]
  },
  {
   "cell_type": "code",
   "execution_count": null,
   "id": "7cf4fa84-9586-4a1b-afd0-65ddd762f905",
   "metadata": {},
   "outputs": [],
   "source": [
    "adata.write(results_file, compression='gzip')  # `compression='gzip'` saves disk space, but slows down writing and subsequent reading"
   ]
  },
  {
   "cell_type": "code",
   "execution_count": null,
   "id": "a47561e5-8410-43d8-86e0-5af97c8ae027",
   "metadata": {},
   "outputs": [],
   "source": [
    "adata.raw.to_adata().write('./write/pbmc3k_withoutX.h5ad')"
   ]
  },
  {
   "cell_type": "code",
   "execution_count": null,
   "id": "c3a68df6-bf33-4e61-859f-56b650461a63",
   "metadata": {},
   "outputs": [],
   "source": [
    "# Export single fields of the annotation of observations\n",
    "# adata.obs[['n_counts', 'louvain_groups']].to_csv(\n",
    "#     './write/pbmc3k_corrected_louvain_groups.csv')\n",
    "\n",
    "# Export single columns of the multidimensional annotation\n",
    "# adata.obsm.to_df()[['X_pca1', 'X_pca2']].to_csv(\n",
    "#     './write/pbmc3k_corrected_X_pca.csv')\n",
    "\n",
    "# Or export everything except the data using `.write_csvs`.\n",
    "# Set `skip_data=False` if you also want to export the data.\n",
    "# adata.write_csvs(results_file[:-5], )"
   ]
  },
  {
   "cell_type": "code",
   "execution_count": null,
   "id": "2314cafe-b2db-4b19-a21c-ae67a9e8b40f",
   "metadata": {},
   "outputs": [],
   "source": []
  }
 ],
 "metadata": {
  "kernelspec": {
   "display_name": "Python 3 (ipykernel)",
   "language": "python",
   "name": "python3"
  },
  "language_info": {
   "codemirror_mode": {
    "name": "ipython",
    "version": 3
   },
   "file_extension": ".py",
   "mimetype": "text/x-python",
   "name": "python",
   "nbconvert_exporter": "python",
   "pygments_lexer": "ipython3",
   "version": "3.11.4"
  }
 },
 "nbformat": 4,
 "nbformat_minor": 5
}
